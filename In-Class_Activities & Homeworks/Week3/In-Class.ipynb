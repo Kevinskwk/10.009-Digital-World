{
 "nbformat": 4,
 "nbformat_minor": 2,
 "metadata": {
  "language_info": {
   "name": "python",
   "codemirror_mode": {
    "name": "ipython",
    "version": 3
   }
  },
  "orig_nbformat": 2,
  "file_extension": ".py",
  "mimetype": "text/x-python",
  "name": "python",
  "npconvert_exporter": "python",
  "pygments_lexer": "ipython3",
  "version": 3
 },
 "cells": [
  {
   "cell_type": "code",
   "execution_count": null,
   "metadata": {},
   "outputs": [],
   "source": [
    "# CS1 - Summing a List\n",
    "def list_sum(ls):\n",
    "    n = len(ls)\n",
    "    i = 0\n",
    "    s = 0.0\n",
    "    while i < n:\n",
    "        s += ls[i]\n",
    "        i += 1\n",
    "    return s"
   ]
  },
  {
   "cell_type": "code",
   "execution_count": null,
   "metadata": {},
   "outputs": [],
   "source": [
    "# CS2 - Min and Max of List\n",
    "def minmax_in_list(ls):\n",
    "    import sys\n",
    "    if len(ls) == 0:\n",
    "        return (None, None)\n",
    "    else:\n",
    "        min = sys.maxsize\n",
    "        max = -sys.maxsize-1\n",
    "        for i in ls:\n",
    "            if i < min:\n",
    "                min = i\n",
    "            if i > max:\n",
    "                max = i\n",
    "        return(min, max)"
   ]
  },
  {
   "cell_type": "code",
   "execution_count": null,
   "metadata": {},
   "outputs": [],
   "source": [
    "# CS3 - Palindrome Number\n",
    "def is_palindrome(num):\n",
    "    string = str(num)\n",
    "    length = len(string)\n",
    "    i = 0\n",
    "    while i < (length+1)//2:\n",
    "        if string[i] != string[length-i-1]:\n",
    "            return False\n",
    "        i += 1\n",
    "    \n",
    "    return True"
   ]
  }
 ]
}