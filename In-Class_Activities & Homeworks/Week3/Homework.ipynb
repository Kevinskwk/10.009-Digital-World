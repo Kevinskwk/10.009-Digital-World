{
 "nbformat": 4,
 "nbformat_minor": 2,
 "metadata": {
  "language_info": {
   "name": "python",
   "codemirror_mode": {
    "name": "ipython",
    "version": 3
   }
  },
  "orig_nbformat": 2,
  "file_extension": ".py",
  "mimetype": "text/x-python",
  "name": "python",
  "npconvert_exporter": "python",
  "pygments_lexer": "ipython3",
  "version": 3
 },
 "cells": [
  {
   "cell_type": "code",
   "execution_count": null,
   "metadata": {},
   "outputs": [],
   "source": [
    "# HW1 - Temperature Conversion\n",
    "def temp_convert(choice, temp):\n",
    "    if choice == \"C\":\n",
    "        c = (temp-32)*5/9\n",
    "        return c\n",
    "    elif choice == \"F\":\n",
    "        f = temp*9/5+32\n",
    "        return f\n",
    "    else:\n",
    "        return None"
   ]
  },
  {
   "cell_type": "code",
   "execution_count": null,
   "metadata": {},
   "outputs": [],
   "source": [
    "# HW2 - Get Even List\n",
    "def get_even_list(ls):\n",
    "    even_list = list()\n",
    "    for i in ls:\n",
    "        if i % 2 == 0:\n",
    "            even_list.append(i)\n",
    "    \n",
    "    return even_list"
   ]
  },
  {
   "cell_type": "code",
   "execution_count": null,
   "metadata": {},
   "outputs": [],
   "source": [
    "# HW3 - Is Prime?\n",
    "def is_prime(n):\n",
    "    i = 2\n",
    "    if n <= 1:\n",
    "        return False\n",
    "    else:\n",
    "        while i <= int(n**0.5):\n",
    "            if n % i == 0:\n",
    "                return False\n",
    "            i += 1\n",
    "        return True"
   ]
  },
  {
   "cell_type": "code",
   "execution_count": null,
   "metadata": {},
   "outputs": [],
   "source": [
    "# HW4 - Euler"
   ]
  }
 ]
}