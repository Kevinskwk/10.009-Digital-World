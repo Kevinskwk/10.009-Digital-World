{
 "nbformat": 4,
 "nbformat_minor": 2,
 "metadata": {
  "language_info": {
   "name": "python",
   "codemirror_mode": {
    "name": "ipython",
    "version": 3
   }
  },
  "orig_nbformat": 2,
  "file_extension": ".py",
  "mimetype": "text/x-python",
  "name": "python",
  "npconvert_exporter": "python",
  "pygments_lexer": "ipython3",
  "version": 3
 },
 "cells": [
  {
   "cell_type": "code",
   "execution_count": null,
   "metadata": {},
   "outputs": [],
   "source": [
    "# HW1 - Part A\n",
    "def f_to_c(f):\n",
    "    c = (f-32)*5/9\n",
    "    return round(c, 1)\n",
    "\n",
    "def f_to_c_approx(f):\n",
    "    c = (f-30)/2\n",
    "    return round(c, 1)\n",
    "\n",
    "def get_conversion_table_a():\n",
    "    table = []\n",
    "    for f in range(0,101,10):\n",
    "        table.append([f, f_to_c(f), f_to_c_approx(f)])\n",
    "        \n",
    "    return table"
   ]
  },
  {
   "cell_type": "code",
   "execution_count": null,
   "metadata": {},
   "outputs": [],
   "source": [
    "# HW1 - Part B\n",
    "def f_to_c(f):\n",
    "    c = (f-32)*5/9\n",
    "    return round(c, 1)\n",
    "\n",
    "def f_to_c_approx(f):\n",
    "    c = (f-30)/2\n",
    "    return round(c, 1)\n",
    "\n",
    "def get_conversion_table_b():\n",
    "    table = [[],[],[]]\n",
    "    for f in range(0,101,10):\n",
    "        table[0].append(f)\n",
    "        table[1].append(f_to_c(f))\n",
    "        table[2].append(f_to_c_approx(f))\n",
    "    \n",
    "    return table"
   ]
  },
  {
   "cell_type": "code",
   "execution_count": null,
   "metadata": {},
   "outputs": [],
   "source": [
    "# HW2 - Max in List\n",
    "def max_list(inlist):\n",
    "    outlist = []\n",
    "    for i in inlist:\n",
    "        outlist.append(max(i))\n",
    "    \n",
    "    return outlist"
   ]
  },
  {
   "cell_type": "code",
   "execution_count": null,
   "metadata": {},
   "outputs": [],
   "source": [
    "# HW3 - Multiplication Table\n",
    "def multiplication_table(n):\n",
    "    if n < 1:\n",
    "        return None\n",
    "    \n",
    "    table = []\n",
    "    for i in range(n):\n",
    "        for j in range(n):\n",
    "            if i == 0:\n",
    "                table.append([])\n",
    "            table[j].append((i+1)*(j+1))\n",
    "                \n",
    "    return table"
   ]
  },
  {
   "cell_type": "code",
   "execution_count": null,
   "metadata": {},
   "outputs": [],
   "source": [
    "# HW4 - Most Frequent\n",
    "def most_frequent(lst):\n",
    "    d = {}\n",
    "    maxCount = 0\n",
    "    for i in lst:\n",
    "        if i in d:\n",
    "            d[i] += 1\n",
    "        else:\n",
    "            d[i] = 1\n",
    "        \n",
    "        if d[i] > maxCount:\n",
    "            maxCount = d[i]\n",
    "    \n",
    "    mostFreq = []\n",
    "    for i in d:\n",
    "        if d[i] == maxCount:\n",
    "            mostFreq.append(i)\n",
    "    \n",
    "    return mostFreq"
   ]
  },
  {
   "cell_type": "code",
   "execution_count": null,
   "metadata": {},
   "outputs": [],
   "source": [
    "# HW5 - "
   ]
  }
 ]
}