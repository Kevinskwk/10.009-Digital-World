{
 "nbformat": 4,
 "nbformat_minor": 2,
 "metadata": {
  "language_info": {
   "name": "python",
   "codemirror_mode": {
    "name": "ipython",
    "version": 3
   }
  },
  "orig_nbformat": 2,
  "file_extension": ".py",
  "mimetype": "text/x-python",
  "name": "python",
  "npconvert_exporter": "python",
  "pygments_lexer": "ipython3",
  "version": 3
 },
 "cells": [
  {
   "cell_type": "code",
   "execution_count": null,
   "metadata": {},
   "outputs": [],
   "source": [
    "# CS2 - Compound Interest\n",
    "def compound_value_months(amt, rate, months):\n",
    "    money = 0\n",
    "    for i in range(months):\n",
    "        money += amt\n",
    "        money *= (1+rate/12)\n",
    "    \n",
    "    return round(money, 2)"
   ]
  },
  {
   "cell_type": "code",
   "execution_count": null,
   "metadata": {},
   "outputs": [],
   "source": [
    "# CS3 - Find Average\n",
    "def find_average(lst):\n",
    "    avg_lst = []\n",
    "    count = 0\n",
    "    lst_sum = 0\n",
    "    for i in lst:\n",
    "        count += len(i)\n",
    "        lst_sum += sum(i)\n",
    "        if len(i) == 0:\n",
    "            avg_lst.append(0)\n",
    "        else:\n",
    "            avg_lst.append(sum(i)/len(i))\n",
    "        \n",
    "    avg = lst_sum/count\n",
    "    \n",
    "    return (avg_lst, avg)"
   ]
  },
  {
   "cell_type": "code",
   "execution_count": null,
   "metadata": {},
   "outputs": [],
   "source": [
    "# CS4 - Transpose Matrix\n",
    "def transpose_matrix(matrix):\n",
    "    t = []\n",
    "    for i in range(len(matrix)):\n",
    "        for j in range(len(matrix[i])):\n",
    "            if i == 0:\n",
    "                t.append([])\n",
    "            t[j].append(matrix[i][j])\n",
    "            \n",
    "    return t"
   ]
  },
  {
   "cell_type": "code",
   "execution_count": null,
   "metadata": {},
   "outputs": [],
   "source": [
    "# CS5 - Phone Book\n",
    "def get_details(name, key, lst):\n",
    "    for i in lst:\n",
    "        if i.get('name') == name:\n",
    "            return i.get(key)\n",
    "    return None"
   ]
  },
  {
   "cell_type": "code",
   "execution_count": null,
   "metadata": {},
   "outputs": [],
   "source": [
    "# CS6 - DNA Base Counts\n",
    "def get_base_counts(dna):\n",
    "    dnaDict = {'A':0, 'T':0, 'C':0, 'G':0}\n",
    "    for i in dna:\n",
    "        if i in dnaDict:\n",
    "            dnaDict[i] += 1\n",
    "        else:\n",
    "            return 'The input DNA string is invalid'\n",
    "    \n",
    "    return dnaDict"
   ]
  }
 ]
}