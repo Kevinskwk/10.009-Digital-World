{
 "nbformat": 4,
 "nbformat_minor": 2,
 "metadata": {
  "language_info": {
   "name": "python",
   "codemirror_mode": {
    "name": "ipython",
    "version": 3
   }
  },
  "orig_nbformat": 2,
  "file_extension": ".py",
  "mimetype": "text/x-python",
  "name": "python",
  "npconvert_exporter": "python",
  "pygments_lexer": "ipython3",
  "version": 3
 },
 "cells": [
  {
   "cell_type": "code",
   "execution_count": null,
   "metadata": {},
   "outputs": [
    {
     "ename": "Error",
     "evalue": "Failed to connect to Jupyter notebook. \r\nhttp://localhost:8888/\r\nError: Invalid response: 500 Internal Server Error",
     "output_type": "error",
     "traceback": [
      "Error: Failed to connect to Jupyter notebook.",
      "http://localhost:8888/",
      "Error: Invalid response: 500 Internal Server Error",
      "at c:\\Users\\2001m\\.vscode\\extensions\\ms-python.python-2020.2.64397\\out\\client\\extension.js:1:817436"
     ]
    }
   ],
   "source": [
    "# CS1 - Coordinate Class\n",
    "class Coordinate:\n",
    "    def __init__(self, x=0, y=0):\n",
    "        self.x = x\n",
    "        self.y = y\n",
    "        \n",
    "    def magnitude(self):\n",
    "        return (self.x**2 + self.y**2)**0.5\n",
    "    \n",
    "    def translate(self, dx, dy):\n",
    "        self.x += dx\n",
    "        self.y += dy\n",
    "        \n",
    "    def __eq__(self, other):\n",
    "        return self.x == other.x and self.y == other.y"
   ]
  },
  {
   "cell_type": "code",
   "execution_count": null,
   "metadata": {},
   "outputs": [],
   "source": [
    "# CS2 - Celsius Class\n",
    "class Celsius:\n",
    "    def __init__(self, temperature = 0):\n",
    "        self.temperature = temperature\n",
    "    \n",
    "    def to_fahrenheit(self):\n",
    "        return self.temperature*9/5 + 32\n",
    "\n",
    "    def get_temperature(self):\n",
    "        return self._temperature\n",
    "\n",
    "    def set_temperature(self, value):\n",
    "        if value < -273:\n",
    "            self._temperature = -273\n",
    "        else:\n",
    "            self._temperature = value\n",
    "    \n",
    "    temperature = property(get_temperature, set_temperature)"
   ]
  },
  {
   "cell_type": "code",
   "execution_count": null,
   "metadata": {},
   "outputs": [],
   "source": [
    "# CS3 - Stopwatch Class\n",
    "import time\n",
    "\n",
    "class StopWatch:\n",
    "    def __init__(self):\n",
    "        self.start_time = time.time()\n",
    "        self.end_time = -1\n",
    "        \n",
    "    def start(self):\n",
    "        self.start_time = time.time()\n",
    "        self.end_time = -1\n",
    "        \n",
    "    def stop(self):\n",
    "        self.end_time = time.time()\n",
    "        \n",
    "    def elapsed_time(self):\n",
    "        if self.end_time == -1:\n",
    "            return None\n",
    "        else:\n",
    "            return round((self.end_time - self.start_time), 1)"
   ]
  },
  {
   "cell_type": "code",
   "execution_count": null,
   "metadata": {},
   "outputs": [],
   "source": [
    "# CS4 - Straight Line Class\n",
    "class Line:\n",
    "    def __init__(self, c0, c1):\n",
    "        self.c0 = c0\n",
    "        self.c1 = c1\n",
    "        \n",
    "    def __call__(self, x):\n",
    "        return self.c0 + self.c1*x\n",
    "    \n",
    "    def table(self, L, R, n):     \n",
    "        if n == 0:\n",
    "            return 'Error in printing table'\n",
    "        else:\n",
    "            if L == R:\n",
    "                n = 1\n",
    "                step = 0\n",
    "            if n == 1:\n",
    "                step = 0\n",
    "            else:\n",
    "                step = (R-L)/(n-1)\n",
    "            x = L\n",
    "            table = ''\n",
    "            for i in range(n):\n",
    "                y = self(x)\n",
    "                table += '{0:10.2f}{1:10.2f}\\n'.format(x, y)\n",
    "                x += step\n",
    "        \n",
    "            return table"
   ]
  }
 ]
}