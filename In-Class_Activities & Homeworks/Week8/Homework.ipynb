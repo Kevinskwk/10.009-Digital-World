{
 "nbformat": 4,
 "nbformat_minor": 2,
 "metadata": {
  "language_info": {
   "name": "python",
   "codemirror_mode": {
    "name": "ipython",
    "version": 3
   }
  },
  "orig_nbformat": 2,
  "file_extension": ".py",
  "mimetype": "text/x-python",
  "name": "python",
  "npconvert_exporter": "python",
  "pygments_lexer": "ipython3",
  "version": 3
 },
 "cells": [
  {
   "cell_type": "code",
   "execution_count": null,
   "metadata": {},
   "outputs": [],
   "source": [
    "# HW1 - Time\n",
    "class Time:\n",
    "    def __init__(self, hour, minute, second):\n",
    "        self._hours = hour\n",
    "        self._minutes = minute\n",
    "        self._seconds = second\n",
    "        \n",
    "    def get_elapsed_time(self):\n",
    "        s = self._hours * 3600 + self._minutes * 60 + self._seconds\n",
    "        return s\n",
    "    \n",
    "    def set_elapsed_time(self, value):\n",
    "        value = value % 86400\n",
    "        self._hours = value // 3600\n",
    "        value = value % 3600\n",
    "        self._minutes = value // 60\n",
    "        value = value % 60\n",
    "        self._seconds = value\n",
    "        \n",
    "    def __str__(self):\n",
    "        return 'Time: {0}:{1}:{2}'.format(self._hours, self._minutes, self._seconds)\n",
    "    \n",
    "    elapsed_time = property(get_elapsed_time, set_elapsed_time)"
   ]
  },
  {
   "cell_type": "code",
   "execution_count": null,
   "metadata": {},
   "outputs": [],
   "source": [
    "# HW2 - Bank Account\n",
    "class Account:    \n",
    "    def __init__(self, owner, account_number, amount):\n",
    "        self._owner = owner\n",
    "        self._account_number = account_number\n",
    "        self._balance = amount\n",
    "        \n",
    "    def deposit(self, amount):\n",
    "        self._balance += amount\n",
    "        \n",
    "    def withdraw(self, amount):\n",
    "        self._balance -= amount\n",
    "        \n",
    "    def __str__(self):\n",
    "        return '{0}, {1}, balance: {2}'.format(self._owner, self._account_number, self._balance)"
   ]
  },
  {
   "cell_type": "code",
   "execution_count": null,
   "metadata": {},
   "outputs": [],
   "source": [
    "# HW3 - Numerical Differentiation\n",
    "class Diff:\n",
    "    def __init__(self, f, h=1e-4):\n",
    "        self.f = f\n",
    "        self.h = h\n",
    "        \n",
    "    def __call__(self, x):\n",
    "        diff = (self.f(x+self.h)-self.f(x))/self.h\n",
    "        return diff"
   ]
  },
  {
   "cell_type": "code",
   "execution_count": null,
   "metadata": {},
   "outputs": [],
   "source": [
    "# HW4 - Polynomial\n"
   ]
  }
 ]
}