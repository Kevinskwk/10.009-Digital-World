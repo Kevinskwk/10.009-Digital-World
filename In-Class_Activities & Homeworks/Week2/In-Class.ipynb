{
 "nbformat": 4,
 "nbformat_minor": 2,
 "metadata": {
  "language_info": {
   "name": "python",
   "codemirror_mode": {
    "name": "ipython",
    "version": 3
   },
   "version": "3.6.9-final"
  },
  "orig_nbformat": 2,
  "file_extension": ".py",
  "mimetype": "text/x-python",
  "name": "python",
  "npconvert_exporter": "python",
  "pygments_lexer": "ipython3",
  "version": 3,
  "kernelspec": {
   "name": "python36964bit1fab5b01cd69493b997dd0f084cdc124",
   "display_name": "Python 3.6.9 64-bit"
  }
 },
 "cells": [
  {
   "cell_type": "code",
   "execution_count": null,
   "metadata": {},
   "outputs": [],
   "source": [
    "# CS1 - Position Velocity\n",
    "def position_velocity(v0, t):\n",
    "    g = 9.81\n",
    "    y = v0 * t - g/2*t**2\n",
    "    yPrime = v0 - g*t\n",
    "    return (round(y,2),round(yPrime,2))"
   ]
  },
  {
   "cell_type": "code",
   "execution_count": null,
   "metadata": {},
   "outputs": [],
   "source": [
    "# CS2 - BMI\n",
    "def bmi(weight, height):\n",
    "    height_in_metre = height/100\n",
    "    bmi = weight/(height_in_metre**2)\n",
    "    return (round(bmi, 1))"
   ]
  },
  {
   "cell_type": "code",
   "execution_count": null,
   "metadata": {},
   "outputs": [],
   "source": [
    "# CS3 - Area of Triangle\n",
    "from math import sqrt\n",
    "\n",
    "class Coordinate:\n",
    "    x = 0.0\n",
    "    y = 0.0\n",
    "\n",
    "def length_of_side(p1,p2):\n",
    "    return sqrt((p1.x-p2.x)**2+(p1.y-p2.y)**2)\n",
    "\n",
    "def area_of_triangle(p1,p2,p3):\n",
    "    side1 = length_of_side(p2,p3)\n",
    "    side2 = length_of_side(p1,p3)\n",
    "    side3 = length_of_side(p1,p2)\n",
    "    s = (side1+side2+side3)/2\n",
    "    area = sqrt(s*(s-side1)*(s-side2)*(s-side3))\n",
    "    return round(area,2)"
   ]
  },
  {
   "cell_type": "code",
   "execution_count": null,
   "metadata": {},
   "outputs": [],
   "source": [
    "# CS5 - Describe BMI\n",
    "def describe_bmi(bmi):\n",
    "    if bmi < 18.5:\n",
    "        return 'nutritional deficiency'\n",
    "    elif bmi < 23:\n",
    "        return 'low risk'\n",
    "    elif bmi < 27.5:\n",
    "        return 'moderate risk'\n",
    "    else:\n",
    "        return 'high risk'"
   ]
  },
  {
   "cell_type": "code",
   "execution_count": null,
   "metadata": {},
   "outputs": [],
   "source": [
    "# CS6 - Letter Grade\n",
    "def letter_grade(mark):\n",
    "    if 0 > mark or mark > 100:\n",
    "        return None\n",
    "    else:\n",
    "        if mark >= 90:\n",
    "            return 'A'\n",
    "        elif mark >= 80:\n",
    "            return 'B'\n",
    "        elif mark >= 70:\n",
    "            return 'C'\n",
    "        elif mark >= 60:\n",
    "            return 'D'\n",
    "        else:\n",
    "            return 'E'"
   ]
  },
  {
   "cell_type": "code",
   "execution_count": 2,
   "metadata": {},
   "outputs": [],
   "source": [
    "# CS7 - Two Squares\n",
    "class Coordinate:\n",
    "    x = 0.0\n",
    "    y = 0.0\n",
    "\n",
    "def is_in_square(square1, side1, square2, side2):\n",
    "    if abs(square1.x-square2.x) <= (side1 + side2):\n",
    "        if abs(square1.y-square2.y) <= (side1 + side2):\n",
    "            return True\n",
    "    return False"
   ]
  }
 ]
}