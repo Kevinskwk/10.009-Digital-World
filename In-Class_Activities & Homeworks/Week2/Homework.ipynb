{
 "nbformat": 4,
 "nbformat_minor": 2,
 "metadata": {
  "language_info": {
   "name": "python",
   "codemirror_mode": {
    "name": "ipython",
    "version": 3
   }
  },
  "orig_nbformat": 2,
  "file_extension": ".py",
  "mimetype": "text/x-python",
  "name": "python",
  "npconvert_exporter": "python",
  "pygments_lexer": "ipython3",
  "version": 3
 },
 "cells": [
  {
   "cell_type": "code",
   "execution_count": null,
   "metadata": {},
   "outputs": [],
   "source": [
    "# HW1 - Fahrenheit to Celsius\n",
    "def fahrenheit_to_celsius(temp):\n",
    "    c = (temp-32)*5/9\n",
    "    return c"
   ]
  },
  {
   "cell_type": "code",
   "execution_count": null,
   "metadata": {},
   "outputs": [],
   "source": [
    "# HW2 - Celsius to Fahrenheit\n",
    "def celsius_to_fahrenheit(temp):\n",
    "    f = temp*9/5+32\n",
    "    return f"
   ]
  },
  {
   "cell_type": "code",
   "execution_count": null,
   "metadata": {},
   "outputs": [],
   "source": [
    "# HW3 - Volume of Cylinder\n",
    "def area_vol_cylinder(radius, length):\n",
    "    from math import pi\n",
    "    area = radius*radius*pi\n",
    "    volume = area*length\n",
    "    return (round(area,2), round(volume,2))"
   ]
  },
  {
   "cell_type": "code",
   "execution_count": null,
   "metadata": {},
   "outputs": [],
   "source": [
    "# HW4 - Wind Chill\n",
    "def wind_chill_temp(temp,speed):\n",
    "    twc = 35.74 + 0.6215*temp - 35.75*speed**0.16 + 0.4275*temp*speed**0.16\n",
    "    return twc"
   ]
  },
  {
   "cell_type": "code",
   "execution_count": null,
   "metadata": {},
   "outputs": [],
   "source": [
    "# HW5 - Years and Days\n",
    "def minutes_to_years_days(minutes):\n",
    "    totalDays = minutes//(60*24)\n",
    "    years = totalDays//365\n",
    "    days = totalDays%365\n",
    "    return (years, days)"
   ]
  },
  {
   "cell_type": "code",
   "execution_count": null,
   "metadata": {},
   "outputs": [],
   "source": [
    "# HW6 - Future Investment Value\n",
    "def investment_val(amt, rate, years):\n",
    "    monthlyRate = rate/12/100\n",
    "    months = years*12\n",
    "    futureValue = amt*(1+monthlyRate)**months\n",
    "    return round(futureValue, 2)"
   ]
  },
  {
   "cell_type": "code",
   "execution_count": null,
   "metadata": {},
   "outputs": [],
   "source": [
    "# HW7 - Largest Number\n",
    "def is_larger(n1,n2):\n",
    "    if n1 > n2:\n",
    "        return True\n",
    "    else:\n",
    "        return False"
   ]
  },
  {
   "cell_type": "code",
   "execution_count": null,
   "metadata": {},
   "outputs": [],
   "source": [
    "# HW8 - Check Value\n",
    "def check_value(n1,n2,n3,x):\n",
    "    if (x > n1) and (x > n2) and (x < n3):\n",
    "        return True\n",
    "    else:\n",
    "        return False"
   ]
  }
 ]
}