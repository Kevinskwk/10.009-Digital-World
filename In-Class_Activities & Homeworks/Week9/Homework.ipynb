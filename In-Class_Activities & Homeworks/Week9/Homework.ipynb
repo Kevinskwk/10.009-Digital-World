{
 "nbformat": 4,
 "nbformat_minor": 2,
 "metadata": {
  "language_info": {
   "name": "python",
   "codemirror_mode": {
    "name": "ipython",
    "version": 3
   }
  },
  "orig_nbformat": 2,
  "file_extension": ".py",
  "mimetype": "text/x-python",
  "name": "python",
  "npconvert_exporter": "python",
  "pygments_lexer": "ipython3",
  "version": 3
 },
 "cells": [
  {
   "cell_type": "code",
   "execution_count": null,
   "metadata": {},
   "outputs": [],
   "source": [
    "# HW1 - Comments\n",
    "from libdw import sm\n",
    "\n",
    "class CommentsSM(sm.SM):\n",
    "    start_state = 0\n",
    "\n",
    "    def get_next_values(self, state, inp):\n",
    "        if state == 0:\n",
    "            if inp == '#':\n",
    "                return 1, inp\n",
    "            \n",
    "            else:\n",
    "                return 0, None\n",
    "            \n",
    "        else:\n",
    "            if inp == '\\n':\n",
    "                return 0, None\n",
    "            \n",
    "            else:\n",
    "                return 1, inp"
   ]
  },
  {
   "cell_type": "code",
   "execution_count": null,
   "metadata": {},
   "outputs": [],
   "source": [
    "# HW2 - First Word\n",
    "from libdw import sm\n",
    "\n",
    "class FirstWordSM(sm.SM):\n",
    "    start_state = 0\n",
    "\n",
    "    def get_next_values(self, state, inp):\n",
    "        if inp == ' ':\n",
    "            if state == 1:\n",
    "                return 2, None\n",
    "            else:\n",
    "                return state, None\n",
    "            \n",
    "        elif inp == '\\n':\n",
    "            return 0, None\n",
    "        \n",
    "        else:\n",
    "            if state == 2:\n",
    "                return 2, None\n",
    "            else:\n",
    "                return 1, inp"
   ]
  }
 ]
}