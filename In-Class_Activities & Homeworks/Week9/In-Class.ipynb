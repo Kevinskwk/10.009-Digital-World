{
 "nbformat": 4,
 "nbformat_minor": 2,
 "metadata": {
  "language_info": {
   "name": "python",
   "codemirror_mode": {
    "name": "ipython",
    "version": 3
   }
  },
  "orig_nbformat": 2,
  "file_extension": ".py",
  "mimetype": "text/x-python",
  "name": "python",
  "npconvert_exporter": "python",
  "pygments_lexer": "ipython3",
  "version": 3
 },
 "cells": [
  {
   "cell_type": "code",
   "execution_count": null,
   "metadata": {},
   "outputs": [],
   "source": [
    "# CS1 - Coke Machine\n",
    "from libdw import sm\n",
    "\n",
    "class CM(sm.SM):\n",
    "    start_state = 0\n",
    "\n",
    "    def get_next_values(self, state, inp):\n",
    "        if inp == 50:\n",
    "            if state == 0:\n",
    "                return 1, (50, '--', 0)\n",
    "            \n",
    "            else:\n",
    "                return 0, (0, 'coke', 0)\n",
    "            \n",
    "        elif inp == 100:\n",
    "            if state == 0:\n",
    "                return 0, (0, 'coke', 0)\n",
    "            \n",
    "            else:\n",
    "                return 0, (0, 'coke', 50)\n",
    "        \n",
    "        else:\n",
    "            return state, (50*state, '--', inp)"
   ]
  },
  {
   "cell_type": "code",
   "execution_count": null,
   "metadata": {},
   "outputs": [],
   "source": [
    "# Cs"
   ]
  }
 ]
}