{
 "nbformat": 4,
 "nbformat_minor": 2,
 "metadata": {
  "language_info": {
   "name": "python",
   "codemirror_mode": {
    "name": "ipython",
    "version": 3
   }
  },
  "orig_nbformat": 2,
  "file_extension": ".py",
  "mimetype": "text/x-python",
  "name": "python",
  "npconvert_exporter": "python",
  "pygments_lexer": "ipython3",
  "version": 3
 },
 "cells": [
  {
   "cell_type": "code",
   "execution_count": null,
   "metadata": {},
   "outputs": [],
   "source": [
    "# HW1 - Binary to Decimals\n",
    "def binary_to_decimal(binstr):\n",
    "    integer = 0\n",
    "    l = len(binstr)\n",
    "    for i in range(l):\n",
    "        integer += int(binstr[i]) * 2**(l-i-1)\n",
    "    \n",
    "    return integer"
   ]
  },
  {
   "cell_type": "code",
   "execution_count": null,
   "metadata": {},
   "outputs": [],
   "source": [
    "# HW2 - Compressed Strings\n",
    "def uncompress(string):\n",
    "    output = ''\n",
    "    for i in range(len(string)//2):\n",
    "        if string[2*i].isdigit():\n",
    "            output += int(string[2*i]) * string[2*i+1]\n",
    "            \n",
    "    return output"
   ]
  },
  {
   "cell_type": "code",
   "execution_count": null,
   "metadata": {},
   "outputs": [],
   "source": [
    "# HW3 - DNA Base Counts\n",
    "def get_base_counts2(dna):\n",
    "    dnaDict = {'A':0, 'T':0, 'C':0, 'G':0}\n",
    "    for c in dna:\n",
    "        if c in dnaDict:\n",
    "            dnaDict[c] += 1\n",
    "        else:\n",
    "            if not c.isupper():\n",
    "                return 'The input DNA string is invalid'\n",
    "    \n",
    "    return dnaDict"
   ]
  },
  {
   "cell_type": "code",
   "execution_count": null,
   "metadata": {},
   "outputs": [],
   "source": [
    "# HW4 - Files and I/O(Constants)\n",
    "def get_fundamental_constants(f):\n",
    "    consts = {}\n",
    "    for line in f:\n",
    "        l = line.split()\n",
    "        if len(l) == 3:\n",
    "            consts[l[0]] = float(l[1])\n",
    "    \n",
    "    return consts\n",
    "\n",
    "f = open('text_files/constants.txt', 'r')\n",
    "print(get_fundamental_constants(f))"
   ]
  },
  {
   "cell_type": "code",
   "execution_count": null,
   "metadata": {},
   "outputs": [],
   "source": [
    "# HW5 - Process Scores\n"
   ]
  }
 ]
}