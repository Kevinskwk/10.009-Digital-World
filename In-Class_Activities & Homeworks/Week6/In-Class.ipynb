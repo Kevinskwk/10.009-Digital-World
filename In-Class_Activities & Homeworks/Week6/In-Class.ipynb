{
 "nbformat": 4,
 "nbformat_minor": 2,
 "metadata": {
  "language_info": {
   "name": "python",
   "codemirror_mode": {
    "name": "ipython",
    "version": 3
   }
  },
  "orig_nbformat": 2,
  "file_extension": ".py",
  "mimetype": "text/x-python",
  "name": "python",
  "npconvert_exporter": "python",
  "pygments_lexer": "ipython3",
  "version": 3
 },
 "cells": [
  {
   "cell_type": "code",
   "execution_count": null,
   "metadata": {},
   "outputs": [],
   "source": [
    "# CS1 - Reverse String\n",
    "def reverse(string):\n",
    "    reversed_string = ''\n",
    "    for i in string:\n",
    "        reversed_string = i + reversed_string\n",
    "        \n",
    "    return reversed_string"
   ]
  },
  {
   "cell_type": "code",
   "execution_count": null,
   "metadata": {},
   "outputs": [],
   "source": [
    "# CS2 - Check Password\n",
    "def check_password(password):\n",
    "    if len(password) >= 8:\n",
    "        if password.isalnum():\n",
    "            number = sum(c.isdigit() for c in password)\n",
    "            if number >= 2:\n",
    "                return True\n",
    "    return False"
   ]
  },
  {
   "cell_type": "code",
   "execution_count": null,
   "metadata": {},
   "outputs": [],
   "source": [
    "# CS3 - Longest Common Prefix\n",
    "def longest_common_prefix(string1, string2):\n",
    "    prefix = ''\n",
    "    len1 = len(string1)\n",
    "    len2 = len(string2)\n",
    "    for i in range(min(len1,len2)):\n",
    "        if string1[i] == string2[i]:\n",
    "            prefix += string1[i]\n",
    "        else:\n",
    "            break\n",
    "        \n",
    "    return prefix"
   ]
  },
  {
   "cell_type": "code",
   "execution_count": null,
   "metadata": {},
   "outputs": [],
   "source": [
    "# CS4 - Files and I/O\n",
    "class Coordinate(object):\n",
    "    def __init__(self, x, y):\n",
    "        self.x = x\n",
    "        self.y = y\n",
    "        self.mag = (x**2 + y**2)**0.5\n",
    "    \n",
    "    def get_mag(self):\n",
    "        return self.mag\n",
    "\n",
    "def get_maxmin_mag(f):\n",
    "    maxpoint = Coordinate(0, 0)\n",
    "    for line in f:\n",
    "        pair = line.split('\\t')\n",
    "        x, y = float(pair[0]), float(pair[1])\n",
    "        point = Coordinate(x, y)\n",
    "        if maxpoint.get_mag() < point.get_mag():\n",
    "            maxpoint = point\n",
    "        try:\n",
    "            if minpoint.get_mag() > point.get_mag():\n",
    "                minpoint = point\n",
    "        except:\n",
    "            minpoint = point\n",
    "        \n",
    "    return (maxpoint, minpoint)"
   ]
  }
 ]
}