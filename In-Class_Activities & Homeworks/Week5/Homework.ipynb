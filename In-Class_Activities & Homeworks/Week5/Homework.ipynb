{
 "nbformat": 4,
 "nbformat_minor": 2,
 "metadata": {
  "language_info": {
   "name": "python",
   "codemirror_mode": {
    "name": "ipython",
    "version": 3
   }
  },
  "orig_nbformat": 2,
  "file_extension": ".py",
  "mimetype": "text/x-python",
  "name": "python",
  "npconvert_exporter": "python",
  "pygments_lexer": "ipython3",
  "version": 3
 },
 "cells": [
  {
   "cell_type": "code",
   "execution_count": null,
   "metadata": {},
   "outputs": [],
   "source": [
    "#HW1 - Extract Values, Calculate Ratios\n",
    "def extract_values(values):\n",
    "    ls = values.split()\n",
    "    return (int(ls[0]), int(ls[1]))\n",
    "\n",
    "def calc_ratios(values):\n",
    "    if values[1] == 0:\n",
    "        return None\n",
    "    else:\n",
    "        return values[0]/values[1]"
   ]
  },
  {
   "cell_type": "code",
   "execution_count": null,
   "metadata": {},
   "outputs": [],
   "source": [
    "#HW2 - Modified Calendar\n",
    "from hw2_others import *\n",
    "\n",
    "# You should ONLY submit the 'display_calendar_modified' function\n",
    "\n",
    "def display_calendar_modified(year, month):\n",
    "    if month == None:\n",
    "        return display_calendar(year)\n",
    "    else:\n",
    "        cal = construct_cal_year(year)\n",
    "        cal_month = cal[month]\n",
    "        string = ''\n",
    "        string += (cal_month[0] + '\\n')\n",
    "        string += '  S  M  T  W  T  F  S'\n",
    "        for week in cal_month[1:]:\n",
    "            string += ('\\n' + week)\n",
    "        \n",
    "        return string"
   ]
  }
 ]
}